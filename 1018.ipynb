{
 "cells": [
  {
   "cell_type": "code",
   "execution_count": 1,
   "id": "6042224d-85c7-40c3-9428-ed88d5f4dd87",
   "metadata": {},
   "outputs": [],
   "source": [
    "import pandas as pd\n",
    "import numpy as np"
   ]
  },
  {
   "cell_type": "code",
   "execution_count": 2,
   "id": "8b957bb0-40b6-478f-a560-b40d294506ac",
   "metadata": {},
   "outputs": [
    {
     "name": "stdout",
     "output_type": "stream",
     "text": [
      "[1 2 3 4 5 6 7 8 9] \n",
      "\n",
      "[[1 2 3]\n",
      " [4 5 6]\n",
      " [7 8 9]] \n",
      "\n"
     ]
    }
   ],
   "source": [
    "x = [1, 2, 3]\n",
    "y = [4, 5, 6]\n",
    "z = [7, 8, 9]\n",
    "\n",
    "print(np.concatenate([x, y, z]), '\\n')\n",
    "print(np.vstack([x, y, z]), '\\n')"
   ]
  },
  {
   "cell_type": "code",
   "execution_count": 3,
   "id": "60ff90eb-6815-4e74-b8bd-6cec83866ca7",
   "metadata": {},
   "outputs": [
    {
     "data": {
      "text/plain": [
       "1    A\n",
       "2    B\n",
       "3    C\n",
       "4    D\n",
       "5    E\n",
       "6    F\n",
       "dtype: object"
      ]
     },
     "execution_count": 3,
     "metadata": {},
     "output_type": "execute_result"
    }
   ],
   "source": [
    "ser1 = pd.Series(['A', 'B', 'C'], index=[1, 2, 3])\n",
    "ser2 = pd.Series(['D', 'E', 'F'], index=[4, 5, 6])\n",
    "\n",
    "pd.concat([ser1, ser2])"
   ]
  },
  {
   "cell_type": "code",
   "execution_count": 4,
   "id": "b5d858d3-4a91-4920-847d-d62e5039769d",
   "metadata": {},
   "outputs": [
    {
     "name": "stdout",
     "output_type": "stream",
     "text": [
      "    A   B   C\n",
      "1  A1  B1  C1\n",
      "2  A2  B2  C2\n"
     ]
    }
   ],
   "source": [
    "def make_df(cols, ind):\n",
    "    data = {c: [str(c) + str(i) for i in ind]\n",
    "            for c in cols}\n",
    "\n",
    "    return pd.DataFrame(data, ind)\n",
    "\n",
    "print(make_df('ABC', [1, 2]))"
   ]
  },
  {
   "cell_type": "code",
   "execution_count": 6,
   "id": "b73f3b7f-bf48-4096-84c0-644061a6d208",
   "metadata": {},
   "outputs": [
    {
     "name": "stdout",
     "output_type": "stream",
     "text": [
      "    A   B\n",
      "1  A1  B1\n",
      "2  A2  B2 \n",
      "\n",
      "    A   B\n",
      "3  A3  B3\n",
      "4  A4  B4 \n",
      "\n",
      "    A   B\n",
      "3  A3  B3\n",
      "4  A4  B4\n",
      "1  A1  B1\n",
      "2  A2  B2\n"
     ]
    }
   ],
   "source": [
    "df1 = make_df('AB', [1, 2])\n",
    "df2 = make_df('AB', [3, 4])\n",
    "\n",
    "print(df1, '\\n')\n",
    "print(df2, '\\n')\n",
    "\n",
    "print(pd.concat([df2, df1], axis=0))"
   ]
  },
  {
   "cell_type": "code",
   "execution_count": 7,
   "id": "c09d350e-c062-48d0-88a5-28e0b1b6de3a",
   "metadata": {},
   "outputs": [
    {
     "name": "stdout",
     "output_type": "stream",
     "text": [
      "    A   B\n",
      "0  A0  B0\n",
      "1  A1  B1 \n",
      "\n",
      "    C   D\n",
      "0  C0  D0\n",
      "1  C1  D1 \n",
      "\n",
      "     A    B    C    D\n",
      "0   A0   B0  NaN  NaN\n",
      "1   A1   B1  NaN  NaN\n",
      "0  NaN  NaN   C0   D0\n",
      "1  NaN  NaN   C1   D1\n"
     ]
    }
   ],
   "source": [
    "df3 = make_df('AB', [0, 1])\n",
    "df4 = make_df('CD', [0, 1])\n",
    "\n",
    "print(df3, '\\n')\n",
    "print(df4, '\\n')\n",
    "\n",
    "print(pd.concat([df3, df4], axis=0))"
   ]
  },
  {
   "cell_type": "code",
   "execution_count": 8,
   "id": "aa06689a-02a4-40a7-b087-104db5bd8ffd",
   "metadata": {},
   "outputs": [
    {
     "name": "stdout",
     "output_type": "stream",
     "text": [
      "    A   B\n",
      "0  A0  B0\n",
      "1  A1  B1\n",
      "0  A0  B0\n",
      "1  A1  B1\n"
     ]
    }
   ],
   "source": [
    "x = make_df('AB', [0, 1])\n",
    "y = make_df('AB', [0, 1])\n",
    "\n",
    "print(pd.concat([x, y]))"
   ]
  },
  {
   "cell_type": "code",
   "execution_count": 9,
   "id": "6590718e-8be7-4985-838c-c6ae3dc961e7",
   "metadata": {},
   "outputs": [
    {
     "name": "stdout",
     "output_type": "stream",
     "text": [
      "ValueError:  Indexes have overlapping values: Int64Index([0, 1], dtype='int64')\n"
     ]
    }
   ],
   "source": [
    "try:\n",
    "    pd.concat([x, y], verify_integrity=True)\n",
    "\n",
    "except ValueError as e:\n",
    "    print(\"ValueError: \", e)"
   ]
  },
  {
   "cell_type": "code",
   "execution_count": 10,
   "id": "a3e9def8-54e5-4748-9458-fc0e0825c09a",
   "metadata": {},
   "outputs": [
    {
     "name": "stdout",
     "output_type": "stream",
     "text": [
      "    A   B\n",
      "0  A0  B0\n",
      "1  A1  B1\n",
      "2  A0  B0\n",
      "3  A1  B1\n"
     ]
    }
   ],
   "source": [
    "print(pd.concat([x, y], ignore_index=True))"
   ]
  },
  {
   "cell_type": "code",
   "execution_count": 11,
   "id": "fd00501c-9857-49f9-9d81-4facb646e3f1",
   "metadata": {},
   "outputs": [
    {
     "name": "stdout",
     "output_type": "stream",
     "text": [
      "    A   B   C\n",
      "1  A1  B1  C1\n",
      "2  A2  B2  C2 \n",
      "\n",
      "     B   C   D\n",
      "3  B3  C3  D3\n",
      "4  B4  C4  D4\n",
      "     A   B   C    D\n",
      "1   A1  B1  C1  NaN\n",
      "2   A2  B2  C2  NaN\n",
      "3  NaN  B3  C3   D3\n",
      "4  NaN  B4  C4   D4\n"
     ]
    }
   ],
   "source": [
    "x = make_df('ABC', [1, 2])\n",
    "y = make_df('BCD', [3, 4])\n",
    "\n",
    "print(x, '\\n\\n', y)\n",
    "\n",
    "print(pd.concat([x, y], join='outer'))"
   ]
  },
  {
   "cell_type": "code",
   "execution_count": 12,
   "id": "dec9f051-d369-438a-9e38-44e0ed003138",
   "metadata": {},
   "outputs": [
    {
     "name": "stdout",
     "output_type": "stream",
     "text": [
      "  employee        group\n",
      "0      Bob   Accounting\n",
      "1     Jake  Engineering\n",
      "2     Lisa  Engineering\n",
      "3      Sue           HR \n",
      "\n",
      "   employee  hire_date\n",
      "0     Lisa       2004\n",
      "1      Bob       2008\n",
      "2     Jake       2012\n",
      "3      Sue       2014\n",
      "  employee        group  hire_date\n",
      "0      Bob   Accounting       2008\n",
      "1     Jake  Engineering       2012\n",
      "2     Lisa  Engineering       2004\n",
      "3      Sue           HR       2014\n"
     ]
    }
   ],
   "source": [
    "df1 = pd.DataFrame({'employee': ['Bob', 'Jake', 'Lisa', 'Sue'], 'group': ['Accounting', 'Engineering', 'Engineering', 'HR']})\n",
    "df2 = pd.DataFrame({'employee': ['Lisa', 'Bob', 'Jake', 'Sue'], 'hire_date': [2004, 2008, 2012, 2014]})\n",
    "\n",
    "print(df1, '\\n\\n', df2)\n",
    "\n",
    "df3 = pd.merge(df1, df2)\n",
    "\n",
    "print(pd.merge(df1, df2))"
   ]
  },
  {
   "cell_type": "code",
   "execution_count": 13,
   "id": "d15b0c2f-3345-420f-b649-7fe4d5e02546",
   "metadata": {},
   "outputs": [
    {
     "name": "stdout",
     "output_type": "stream",
     "text": [
      "  employee        group  hire_date\n",
      "0      Bob   Accounting       2008\n",
      "1     Jake  Engineering       2012\n",
      "2     Lisa  Engineering       2004\n",
      "3      Sue           HR       2014 \n",
      "\n",
      "         group supervisor\n",
      "0   Accounting      Carly\n",
      "1  Engineering      Guido\n",
      "2           HR      Steve \n",
      "\n",
      "  employee        group  hire_date supervisor\n",
      "0      Bob   Accounting       2008      Carly\n",
      "1     Jake  Engineering       2012      Guido\n",
      "2     Lisa  Engineering       2004      Guido\n",
      "3      Sue           HR       2014      Steve\n"
     ]
    }
   ],
   "source": [
    "df4 = pd.DataFrame({'group': ['Accounting', 'Engineering', 'HR'], 'supervisor': ['Carly', 'Guido', 'Steve']})\n",
    "\n",
    "print(df3, '\\n')\n",
    "print(df4, '\\n')\n",
    "\n",
    "print(pd.merge(df3, df4))"
   ]
  },
  {
   "cell_type": "code",
   "execution_count": 14,
   "id": "c2553369-01ee-4b7a-a4d5-21eea173d88c",
   "metadata": {},
   "outputs": [
    {
     "name": "stdout",
     "output_type": "stream",
     "text": [
      "  employee        group\n",
      "0      Bob   Accounting\n",
      "1     Jake  Engineering\n",
      "2     Lisa  Engineering\n",
      "3      Sue           HR \n",
      "\n",
      "         group        skills\n",
      "0   Accounting          math\n",
      "1   Accounting  spreadsheets\n",
      "2  Engineering        coding\n",
      "3  Engineering         linux\n",
      "4           HR  spreadsheets\n",
      "5           HR  organization \n",
      "\n",
      "  employee        group        skills\n",
      "0      Bob   Accounting          math\n",
      "1      Bob   Accounting  spreadsheets\n",
      "2     Jake  Engineering        coding\n",
      "3     Jake  Engineering         linux\n",
      "4     Lisa  Engineering        coding\n",
      "5     Lisa  Engineering         linux\n",
      "6      Sue           HR  spreadsheets\n",
      "7      Sue           HR  organization\n"
     ]
    }
   ],
   "source": [
    "df5 = pd.DataFrame({'group': ['Accounting', 'Accounting', 'Engineering', 'Engineering', 'HR', 'HR'], \n",
    "                    'skills': ['math', 'spreadsheets', 'coding', 'linux', 'spreadsheets', 'organization']})\n",
    "\n",
    "print(df1, '\\n')\n",
    "print(df5, '\\n')\n",
    "\n",
    "print(pd.merge(df1, df5))"
   ]
  },
  {
   "cell_type": "code",
   "execution_count": 15,
   "id": "5e393443-a0fd-4aaf-aad7-0bac6c106277",
   "metadata": {},
   "outputs": [
    {
     "name": "stdout",
     "output_type": "stream",
     "text": [
      "  employee        group\n",
      "0      Bob   Accounting\n",
      "1     Jake  Engineering\n",
      "2     Lisa  Engineering\n",
      "3      Sue           HR \n",
      "\n",
      "  employee  hire_date\n",
      "0     Lisa       2004\n",
      "1      Bob       2008\n",
      "2     Jake       2012\n",
      "3      Sue       2014 \n",
      "\n",
      "  employee        group  age\n",
      "0      Bob   Accounting   20\n",
      "1     Jake  Engineering   42\n",
      "2     Lisa  Engineering   37\n",
      "3      Sue           HR   25 \n",
      "\n",
      "   employee  hire_date  age\n",
      "0     Lisa       2004   37\n",
      "1      Bob       2008   20\n",
      "2     Jake       2012   42\n",
      "3      Sue       2014   25\n",
      "  employee_x        group  age employee_y  hire_date\n",
      "0        Bob   Accounting   20        Bob       2008\n",
      "1       Jake  Engineering   42       Jake       2012\n",
      "2       Lisa  Engineering   37       Lisa       2004\n",
      "3        Sue           HR   25        Sue       2014\n"
     ]
    }
   ],
   "source": [
    "print(df1, '\\n')\n",
    "print(df2, '\\n')\n",
    "\n",
    "df1['age'] = pd.Series([20, 42, 37, 25])\n",
    "df2['age'] = pd.Series([37, 20, 42, 25])\n",
    "\n",
    "print(df1, '\\n\\n', df2)\n",
    "\n",
    "print(pd.merge(df1, df2, on='age'))"
   ]
  },
  {
   "cell_type": "code",
   "execution_count": 16,
   "id": "291d01e0-7cb0-4bb5-ac61-733b9f839862",
   "metadata": {},
   "outputs": [
    {
     "name": "stdout",
     "output_type": "stream",
     "text": [
      "  employee        group  age\n",
      "0      Bob   Accounting   20\n",
      "1     Jake  Engineering   42\n",
      "2     Lisa  Engineering   37\n",
      "3      Sue           HR   25 \n",
      "\n",
      "   name  salary\n",
      "0   Bob   70000\n",
      "1  Jake   80000\n",
      "2  Lisa  120000\n",
      "3   Sue   90000 \n",
      "\n",
      "  employee        group  age  name  salary\n",
      "0      Bob   Accounting   20   Bob   70000\n",
      "1     Jake  Engineering   42  Jake   80000\n",
      "2     Lisa  Engineering   37  Lisa  120000\n",
      "3      Sue           HR   25   Sue   90000\n"
     ]
    }
   ],
   "source": [
    "df3 = pd.DataFrame({'name': ['Bob', 'Jake', 'Lisa', 'Sue'], \n",
    "                    'salary': [70000, 80000, 120000, 90000]})\n",
    "\n",
    "print(df1, '\\n')\n",
    "print(df3, '\\n')\n",
    "\n",
    "print(pd.merge(df1, df3, left_on='employee', right_on='name'))"
   ]
  },
  {
   "cell_type": "code",
   "execution_count": 17,
   "id": "016754d8-0aa4-4bba-9ce9-f8be2eaf88de",
   "metadata": {},
   "outputs": [
    {
     "name": "stdout",
     "output_type": "stream",
     "text": [
      "                group  age\n",
      "employee                  \n",
      "Bob        Accounting   20\n",
      "Jake      Engineering   42\n",
      "Lisa      Engineering   37\n",
      "Sue                HR   25 \n",
      "\n",
      "          hire_date  age\n",
      "employee                \n",
      "Lisa           2004   37\n",
      "Bob            2008   20\n",
      "Jake           2012   42\n",
      "Sue            2014   25 \n",
      "\n"
     ]
    },
    {
     "data": {
      "text/html": [
       "<div>\n",
       "<style scoped>\n",
       "    .dataframe tbody tr th:only-of-type {\n",
       "        vertical-align: middle;\n",
       "    }\n",
       "\n",
       "    .dataframe tbody tr th {\n",
       "        vertical-align: top;\n",
       "    }\n",
       "\n",
       "    .dataframe thead th {\n",
       "        text-align: right;\n",
       "    }\n",
       "</style>\n",
       "<table border=\"1\" class=\"dataframe\">\n",
       "  <thead>\n",
       "    <tr style=\"text-align: right;\">\n",
       "      <th></th>\n",
       "      <th>group</th>\n",
       "      <th>age_x</th>\n",
       "      <th>hire_date</th>\n",
       "      <th>age_y</th>\n",
       "    </tr>\n",
       "    <tr>\n",
       "      <th>employee</th>\n",
       "      <th></th>\n",
       "      <th></th>\n",
       "      <th></th>\n",
       "      <th></th>\n",
       "    </tr>\n",
       "  </thead>\n",
       "  <tbody>\n",
       "    <tr>\n",
       "      <th>Bob</th>\n",
       "      <td>Accounting</td>\n",
       "      <td>20</td>\n",
       "      <td>2008</td>\n",
       "      <td>20</td>\n",
       "    </tr>\n",
       "    <tr>\n",
       "      <th>Jake</th>\n",
       "      <td>Engineering</td>\n",
       "      <td>42</td>\n",
       "      <td>2012</td>\n",
       "      <td>42</td>\n",
       "    </tr>\n",
       "    <tr>\n",
       "      <th>Lisa</th>\n",
       "      <td>Engineering</td>\n",
       "      <td>37</td>\n",
       "      <td>2004</td>\n",
       "      <td>37</td>\n",
       "    </tr>\n",
       "    <tr>\n",
       "      <th>Sue</th>\n",
       "      <td>HR</td>\n",
       "      <td>25</td>\n",
       "      <td>2014</td>\n",
       "      <td>25</td>\n",
       "    </tr>\n",
       "  </tbody>\n",
       "</table>\n",
       "</div>"
      ],
      "text/plain": [
       "                group  age_x  hire_date  age_y\n",
       "employee                                      \n",
       "Bob        Accounting     20       2008     20\n",
       "Jake      Engineering     42       2012     42\n",
       "Lisa      Engineering     37       2004     37\n",
       "Sue                HR     25       2014     25"
      ]
     },
     "execution_count": 17,
     "metadata": {},
     "output_type": "execute_result"
    }
   ],
   "source": [
    "df1a = df1.set_index('employee')\n",
    "print(df1a, '\\n')\n",
    "df2a = df2.set_index('employee')\n",
    "print(df2a, '\\n')\n",
    "\n",
    "pd.merge(df1a, df2a, left_index=True, right_index=True)"
   ]
  },
  {
   "cell_type": "code",
   "execution_count": null,
   "id": "58d9fb46-7582-4c32-bc6e-f697f1304b03",
   "metadata": {},
   "outputs": [],
   "source": []
  }
 ],
 "metadata": {
  "kernelspec": {
   "display_name": "Python 3",
   "language": "python",
   "name": "python3"
  },
  "language_info": {
   "codemirror_mode": {
    "name": "ipython",
    "version": 3
   },
   "file_extension": ".py",
   "mimetype": "text/x-python",
   "name": "python",
   "nbconvert_exporter": "python",
   "pygments_lexer": "ipython3",
   "version": "3.8.8"
  }
 },
 "nbformat": 4,
 "nbformat_minor": 5
}
