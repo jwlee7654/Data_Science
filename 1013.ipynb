{
 "cells": [
  {
   "cell_type": "code",
   "execution_count": 1,
   "id": "9853520d-c34b-49e0-900a-f4de5c8ae72b",
   "metadata": {},
   "outputs": [
    {
     "data": {
      "text/plain": [
       "'1.2.4'"
      ]
     },
     "execution_count": 1,
     "metadata": {},
     "output_type": "execute_result"
    }
   ],
   "source": [
    "import pandas as pd\n",
    "pd.__version__"
   ]
  },
  {
   "cell_type": "code",
   "execution_count": 2,
   "id": "9e6bed76-c101-43f5-a4ba-743f273b1901",
   "metadata": {},
   "outputs": [
    {
     "name": "stdout",
     "output_type": "stream",
     "text": [
      "0    0.25\n",
      "1    0.50\n",
      "2    0.75\n",
      "3    1.00\n",
      "dtype: float64\n",
      "(4,)\n",
      "RangeIndex(start=0, stop=4, step=1)\n"
     ]
    }
   ],
   "source": [
    "ser = pd.Series([0.25, 0.5, 0.75, 1]) # constructor method: 객체를 생성하는 메서드\n",
    "print(ser)\n",
    "print(ser.shape)\n",
    "\n",
    "print(ser.index)"
   ]
  },
  {
   "cell_type": "code",
   "execution_count": 3,
   "id": "b54c1ff9-ab93-4764-b375-a4592f700287",
   "metadata": {},
   "outputs": [
    {
     "name": "stdout",
     "output_type": "stream",
     "text": [
      "a    0.25\n",
      "b    0.50\n",
      "c    0.75\n",
      "d    1.00\n",
      "dtype: float64\n",
      "0.5\n"
     ]
    }
   ],
   "source": [
    "ser = pd.Series([0.25, 0.5, 0.75, 1], index=['a', 'b', 'c', 'd'])\n",
    "print(ser)\n",
    "\n",
    "print(ser['b'])"
   ]
  },
  {
   "cell_type": "code",
   "execution_count": 4,
   "id": "32e50d06-fcd7-4325-8ebd-4ee08f289744",
   "metadata": {},
   "outputs": [
    {
     "name": "stdout",
     "output_type": "stream",
     "text": [
      "{'a': 1, 2: 'two', 'third': True}\n"
     ]
    }
   ],
   "source": [
    "dict = {'a': 1 , 2: 'two', 'third': True} # key: value\n",
    "print(dict)"
   ]
  },
  {
   "cell_type": "code",
   "execution_count": 5,
   "id": "684aca5c-a48b-419c-bb60-ecb84469f550",
   "metadata": {},
   "outputs": [
    {
     "name": "stdout",
     "output_type": "stream",
     "text": [
      "California    38332521\n",
      "Texas         26448193\n",
      "New York      19651127\n",
      "Florida       19552860\n",
      "Illinois      12882135\n",
      "dtype: int64 \n",
      "\n",
      "26448193\n"
     ]
    }
   ],
   "source": [
    "population_dict = {'California': 38332521, 'Texas': 26448193, 'New York': 19651127, 'Florida': 19552860, 'Illinois': 12882135}\n",
    "\n",
    "population = pd.Series(population_dict)\n",
    "print(population, '\\n')\n",
    "print(population['Texas'])"
   ]
  },
  {
   "cell_type": "code",
   "execution_count": 6,
   "id": "f5c08030-b502-4c42-87c5-d9f5c017d728",
   "metadata": {},
   "outputs": [
    {
     "name": "stdout",
     "output_type": "stream",
     "text": [
      "California    423967\n",
      "Texas         695662\n",
      "New York      141297\n",
      "Florida       170312\n",
      "Illinois      149995\n",
      "dtype: int64\n"
     ]
    }
   ],
   "source": [
    "area_dict = {'California': 423967, 'Texas': 695662, 'New York': 141297, 'Florida': 170312, 'Illinois': 149995}\n",
    "\n",
    "area = pd.Series(area_dict)\n",
    "print(area)"
   ]
  },
  {
   "cell_type": "code",
   "execution_count": 7,
   "id": "fd2aaadd-df73-47c5-ba78-854a5e7fb907",
   "metadata": {},
   "outputs": [
    {
     "name": "stdout",
     "output_type": "stream",
     "text": [
      "            population    area\n",
      "California    38332521  423967\n",
      "Texas         26448193  695662\n",
      "New York      19651127  141297\n",
      "Florida       19552860  170312\n",
      "Illinois      12882135  149995\n",
      "Index(['California', 'Texas', 'New York', 'Florida', 'Illinois'], dtype='object')\n",
      "Index(['population', 'area'], dtype='object') \n",
      "\n",
      "California    423967\n",
      "Texas         695662\n",
      "New York      141297\n",
      "Florida       170312\n",
      "Illinois      149995\n",
      "Name: area, dtype: int64\n"
     ]
    }
   ],
   "source": [
    "df = pd.DataFrame({'population': population, 'area': area})\n",
    "print(df)\n",
    "\n",
    "print(df.index)\n",
    "print(df.columns, '\\n')\n",
    "\n",
    "area = df['area']\n",
    "print(area)\n",
    "\n",
    "import numpy as np"
   ]
  },
  {
   "cell_type": "code",
   "execution_count": 8,
   "id": "844bad12-2f23-41a2-9a33-3140b722db35",
   "metadata": {},
   "outputs": [
    {
     "name": "stdout",
     "output_type": "stream",
     "text": [
      "[[0.35461438 0.54054042]\n",
      " [0.43077284 0.42322228]\n",
      " [0.82949901 0.93978117]] \n",
      "\n",
      "            population    area\n",
      "California    38332521  423967\n",
      "Texas         26448193  695662\n",
      "New York      19651127  141297\n",
      "Florida       19552860  170312\n",
      "Illinois      12882135  149995\n"
     ]
    }
   ],
   "source": [
    "arr = np.random.rand(3, 2)\n",
    "print(arr, '\\n')\n",
    "\n",
    "df2 = pd.DataFrame(arr, columns=['foo', 'bar'], index=['2021-10-13', '2021-10-14', '2021-10-15'])\n",
    "print(df)"
   ]
  },
  {
   "cell_type": "code",
   "execution_count": 9,
   "id": "7248314f-cb5c-4294-b0a2-3fbce178f602",
   "metadata": {},
   "outputs": [
    {
     "name": "stdout",
     "output_type": "stream",
     "text": [
      "a    0.25\n",
      "b    0.50\n",
      "c    0.75\n",
      "d    1.00\n",
      "dtype: float64 \n",
      "\n"
     ]
    }
   ],
   "source": [
    "ser = pd.Series([0.25, 0.5, 0.75, 1.0], index=['a', 'b', 'c', 'd'])\n",
    "print(ser, '\\n')"
   ]
  },
  {
   "cell_type": "code",
   "execution_count": 10,
   "id": "afa70d12-3d6d-4185-83d7-fdc159f92bb0",
   "metadata": {},
   "outputs": [
    {
     "name": "stdout",
     "output_type": "stream",
     "text": [
      "            population    area     density\n",
      "California    38332521  423967   90.413926\n",
      "Texas         26448193  695662   38.018740\n",
      "New York      19651127  141297  139.076746\n",
      "Florida       19552860  170312  114.806121\n",
      "Illinois      12882135  149995   85.883763\n"
     ]
    }
   ],
   "source": [
    "df['density'] = df['population'] / df['area']\n",
    "\n",
    "print(df)"
   ]
  },
  {
   "cell_type": "code",
   "execution_count": 11,
   "id": "56387239-2491-423e-8825-71bcae80a18d",
   "metadata": {},
   "outputs": [
    {
     "name": "stdout",
     "output_type": "stream",
     "text": [
      "population    1.965113e+07\n",
      "area          1.412970e+05\n",
      "density       1.390767e+02\n",
      "Name: New York, dtype: float64\n"
     ]
    }
   ],
   "source": [
    "print(df.loc['New York'])"
   ]
  },
  {
   "cell_type": "code",
   "execution_count": 12,
   "id": "f8909a1c-84cb-4df9-a06a-d7ec5ea1a018",
   "metadata": {},
   "outputs": [
    {
     "name": "stdout",
     "output_type": "stream",
     "text": [
      "[[3.83325210e+07 4.23967000e+05 9.04139261e+01]\n",
      " [2.64481930e+07 6.95662000e+05 3.80187404e+01]\n",
      " [1.96511270e+07 1.41297000e+05 1.39076746e+02]\n",
      " [1.95528600e+07 1.70312000e+05 1.14806121e+02]\n",
      " [1.28821350e+07 1.49995000e+05 8.58837628e+01]] \n",
      "\n",
      "              California         Texas      New York       Florida  \\\n",
      "population  3.833252e+07  2.644819e+07  1.965113e+07  1.955286e+07   \n",
      "area        4.239670e+05  6.956620e+05  1.412970e+05  1.703120e+05   \n",
      "density     9.041393e+01  3.801874e+01  1.390767e+02  1.148061e+02   \n",
      "\n",
      "                Illinois  \n",
      "population  1.288214e+07  \n",
      "area        1.499950e+05  \n",
      "density     8.588376e+01   \n",
      "\n",
      "            population    area\n",
      "California    38332521  423967\n",
      "Texas         26448193  695662\n",
      "New York      19651127  141297 \n",
      "\n",
      "          population     density\n",
      "New York    19651127  139.076746\n",
      "Florida     19552860  114.806121 \n",
      "\n"
     ]
    }
   ],
   "source": [
    "print(df.values, '\\n')\n",
    "print(df.T, '\\n')\n",
    "\n",
    "print(df.iloc[:3, :2], '\\n')\n",
    "print(df.loc[df.density > 100, ['population', 'density']], '\\n')"
   ]
  },
  {
   "cell_type": "code",
   "execution_count": null,
   "id": "8544083e-afbe-4dbb-9a96-9d542a080f22",
   "metadata": {},
   "outputs": [],
   "source": []
  }
 ],
 "metadata": {
  "kernelspec": {
   "display_name": "Python 3",
   "language": "python",
   "name": "python3"
  },
  "language_info": {
   "codemirror_mode": {
    "name": "ipython",
    "version": 3
   },
   "file_extension": ".py",
   "mimetype": "text/x-python",
   "name": "python",
   "nbconvert_exporter": "python",
   "pygments_lexer": "ipython3",
   "version": "3.8.8"
  }
 },
 "nbformat": 4,
 "nbformat_minor": 5
}
